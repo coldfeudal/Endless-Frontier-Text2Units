{
 "cells": [
  {
   "cell_type": "code",
   "execution_count": 39,
   "metadata": {},
   "outputs": [],
   "source": [
    "import sqlite3\n",
    "from PIL import Image, ImageOps, ImageDraw\n",
    "import time\n"
   ]
  },
  {
   "cell_type": "code",
   "execution_count": 40,
   "metadata": {},
   "outputs": [],
   "source": [
    "sqlite_connection = sqlite3.connect(\"units.db\")\n",
    "cursor = sqlite_connection.cursor()\n",
    "tier_image = Image.open(\"system/tier.png\")\n",
    "elite_image = Image.open(\"system/plus.png\")\n",
    "p_immune = Image.open(\"system/immune-p.png\")\n",
    "m_immune = Image.open(\"system/immune-m.png\")\n",
    "empty_unit = Image.open(\"system/empty_unit.png\")\n",
    "\n",
    "star_image = {\n",
    "\t1: Image.open(\"system/1-star.png\"),\n",
    "\t2: Image.open(\"system/2-star.png\"),\n",
    "\t3: Image.open(\"system/3-star.png\"),\n",
    "\t4: Image.open(\"system/4-star.png\"),\n",
    "\t5: Image.open(\"system/5-star.png\"),\n",
    "\t6: Image.open(\"system/6-star.png\"),\n",
    "\t7: Image.open(\"system/7-star.png\")\n",
    "}\n",
    "\n",
    "for i, val in star_image.items():\n",
    "\tstar_image[i] = val.convert(\"RGBA\")\n",
    "\n",
    "gen_time = 0\n",
    "lang = \"en\"\n"
   ]
  },
  {
   "cell_type": "code",
   "execution_count": 41,
   "metadata": {},
   "outputs": [],
   "source": [
    "def sql(fetch: str) -> str:\n",
    "\tcursor.execute(fetch)\n",
    "\treturn cursor.fetchall()\n"
   ]
  },
  {
   "cell_type": "code",
   "execution_count": 42,
   "metadata": {},
   "outputs": [],
   "source": [
    "def ceildiv(a, b):\n",
    "    return -(a // -b)"
   ]
  },
  {
   "cell_type": "code",
   "execution_count": 43,
   "metadata": {},
   "outputs": [],
   "source": [
    "def name2short(name: str) -> str:\n",
    "\treturn sql(f\"SELECT short FROM units WHERE name = '{name}' LIMIT 1\")[0][0]\n"
   ]
  },
  {
   "cell_type": "code",
   "execution_count": 44,
   "metadata": {},
   "outputs": [],
   "source": [
    "def short2name(short: str, translate: bool = False) -> str:\n",
    "\tglobal lang\n",
    "\tlowershort = short.lower()\n",
    "\tcapsshort = short.title()\n",
    "\tprefix = \"\"\n",
    "\n",
    "\tif lang != \"en\" and translate:\n",
    "\t\tprefix += lang + \"_\"\n",
    "\n",
    "\tdata = sql(f\"SELECT {prefix}name FROM units WHERE (short = '{lowershort}' or alt_short = '{lowershort}' or alt_short_2 = '{lowershort}' or name = '{capsshort}') LIMIT 1\")\n",
    "\n",
    "\tif not data:\n",
    "\t\traise SystemExit(f\"Unknown abbreviation: {short}\")\n",
    "\n",
    "\treturn data[0][0]\n"
   ]
  },
  {
   "cell_type": "code",
   "execution_count": 45,
   "metadata": {},
   "outputs": [],
   "source": [
    "def short2star(short: str) -> int:\n",
    "\tlowershort = short.lower()\n",
    "\tcapsshort = short.title()\n",
    "\treturn int(sql(f\"SELECT star FROM units WHERE (short = '{lowershort}' or alt_short = '{lowershort}' or alt_short_2 = '{lowershort}' or name = '{capsshort}') LIMIT 1\")[0][0])\n"
   ]
  },
  {
   "cell_type": "code",
   "execution_count": 46,
   "metadata": {},
   "outputs": [],
   "source": [
    "def splitSolution(solution: str) -> list:\n",
    "\n",
    "\tsolution = solution.strip()\n",
    "\n",
    "\tif solution.find(\" or \") != -1:\n",
    "\t\traise SystemExit(\"Or expressions are not supported yet\")\n",
    "\n",
    "\tsolution = solution.replace(\",\", \"\")\n",
    "\n",
    "\ttmp_units = solution.split(' ')\n",
    "\n",
    "\tunits = []\n",
    "\n",
    "\tfor unit in tmp_units:\n",
    "\t\ttmp_unit = {}\n",
    "\t\tmult = False\n",
    "\t\tshort = unit\n",
    "\t\tfolder = ''\n",
    "\t\ttier = 0\n",
    "\t\timmune = False\n",
    "\t\telite = 0\n",
    "\n",
    "\t\ttiered = unit.find(\"T1\") == 0 or unit.find(\"T2\") == 0 or unit.find(\"T3\") == 0 or unit.find(\"T4\") == 0 or unit.find(\"T5\") == 0 or unit.find(\"T6\") == 0\n",
    "\t\tsenior = unit.find(\"Sr\") == 0\n",
    "\n",
    "\t\tif tiered or senior:\n",
    "\t\t\tsenior = True\n",
    "\t\t\tfolder = \"senior\"\n",
    "\t\telse:\n",
    "\t\t\tfolder = \"normal\"\n",
    "\n",
    "\t\tif unit.find(\"*\") != -1:\n",
    "\t\t\ttmp_unit[\"count\"] = int(unit.split('*')[1])\n",
    "\t\t\tmult = 1\n",
    "\t\telse:\n",
    "\t\t\ttmp_unit[\"count\"] = 1\n",
    "\n",
    "\t\tif senior:\n",
    "\t\t\tif tiered:\n",
    "\t\t\t\ttier = int(short[1])\n",
    "\t\t\tshort = short[2:]\n",
    "\n",
    "\t\tif mult:\n",
    "\t\t\tshort = short[:short.find('*')]\n",
    "\n",
    "\t\tif short.find(\"(MI)\") != -1:\n",
    "\t\t\tshort = short.replace(\"(MI)\", \"\")\n",
    "\t\t\timmune = \"M\"\n",
    "\t\t\t\n",
    "\t\tif short.find(\"(PI)\") != -1:\n",
    "\t\t\tshort = short.replace(\"(PI)\", \"\")\n",
    "\t\t\timmune = \"P\"\n",
    "\n",
    "\t\tif tier > 3:\n",
    "\t\t\telite = tier - 3\n",
    "\t\t\ttier = 3\n",
    "\n",
    "\t\ttmp_unit[\"name\"] = short2name(short, True)\n",
    "\t\ttmp_unit[\"star\"] = short2star(short) + senior\n",
    "\t\ttmp_unit[\"senior\"] = senior\n",
    "\t\ttmp_unit[\"tier\"] = tier\n",
    "\t\ttmp_unit[\"immune\"] = immune\n",
    "\t\ttmp_unit[\"elite\"] = elite\n",
    "\t\ttmp_unit[\"image\"] = f\"{folder}/{short2name(short)}.png\"\n",
    "\n",
    "\t\tunits += [tmp_unit]\n",
    "\t\t\n",
    "\treturn units"
   ]
  },
  {
   "cell_type": "code",
   "execution_count": 47,
   "metadata": {},
   "outputs": [],
   "source": [
    "def return_and_add (*number: float, add: float) -> float:\n",
    "\tnumber += add\n",
    "\treturn number - add"
   ]
  },
  {
   "cell_type": "code",
   "execution_count": 48,
   "metadata": {},
   "outputs": [],
   "source": [
    "def repeat_to_array(item: any, count: int):\n",
    "\titems = []\n",
    "\tfor i in range(count):\n",
    "\t\titems.append(item)\n",
    "\treturn items"
   ]
  },
  {
   "cell_type": "code",
   "execution_count": 49,
   "metadata": {},
   "outputs": [],
   "source": [
    "def make_elite(image: Image, elite: int) -> Image:\n",
    "\tglobal elite_image\n",
    "\tfor i in range(elite):\n",
    "\t\tsize_mult = 1.3\n",
    "\t\telite_image = elite_image.resize(size=(int(10*size_mult), int(11*size_mult)))\n",
    "\t\telite_image = elite_image.convert(\"RGBA\")\n",
    "\t\timage.alpha_composite(\n",
    "\t\t\telite_image, (image.size[0] - elite_image.size[0] - 2 - i*12, 5))\n",
    "\treturn image\n"
   ]
  },
  {
   "cell_type": "code",
   "execution_count": 50,
   "metadata": {},
   "outputs": [],
   "source": [
    "def make_immune(image: Image, immune: str) -> Image:\n",
    "\tglobal p_immune, m_immune\n",
    "\timmune_image = False\n",
    "\tif immune:\n",
    "\t\tif immune == \"P\":\n",
    "\t\t\timmune_image = p_immune\n",
    "\t\tif immune == \"M\":\n",
    "\t\t\timmune_image = m_immune\n",
    "\t\tsize_mult = 1.3\n",
    "\t\timmune_image = immune_image.resize(\n",
    "\t\t\tsize=(int(10*size_mult), int(10*size_mult)))\n",
    "\t\timmune_image = immune_image.convert(\"RGBA\")\n",
    "\t\timage.alpha_composite(\n",
    "\t\t\timmune_image, (3, image.size[1] - immune_image.size[1] - 5))\n",
    "\treturn image\n"
   ]
  },
  {
   "cell_type": "code",
   "execution_count": 51,
   "metadata": {},
   "outputs": [],
   "source": [
    "def log_generation(units: str):\n",
    "\tglobal gen_time\n",
    "\tunits = splitSolution(units)\n",
    "\tprint(f\"Image generation done in {round(time.time() - gen_time, 2)}s\")\n",
    "\tprint(\"Units:\")\n",
    "\tfor unit in units:\n",
    "\t\tsenior, plus, immune = \"\", \"\", \"\"\n",
    "\t\tif unit[\"senior\"]: senior = \"Sr \"\n",
    "\t\tif unit[\"elite\"]: plus = \"+\" * unit['elite'] + \" \"\n",
    "\t\tif unit[\"immune\"] == \"M\": immune = \"(MI) \"\n",
    "\t\tif unit[\"immune\"] == \"P\": immune = \"(PI) \"\n",
    "\t\tprint(\n",
    "\t\t\tf\"T{unit['tier']} {senior}«{unit['name']}» {plus}{immune}x{unit['count']}\")\n"
   ]
  },
  {
   "cell_type": "code",
   "execution_count": 52,
   "metadata": {},
   "outputs": [],
   "source": [
    "def gen_image(units: str, border: int = 0, add_empty: bool = True) -> Image:\n",
    "\tstar_colors = {\n",
    "\t\t1: (131, 132, 130, 255), #838482\n",
    "\t\t2: (100, 139, 21, 255),  #648b15\n",
    "\t\t3: (69, 146, 221, 255),  #4592dd\n",
    "\t\t4: (192, 52, 191, 255),  #c034c0\n",
    "\t\t5: (224, 57, 15, 255),   #e0390f\n",
    "\t\t6: (219, 142, 27, 255),  #db8e1b\n",
    "\t\t7: (245, 2, 145, 255)    #f50291\n",
    "\t}\n",
    "\t\n",
    "\tunits = splitSolution(units)\n",
    "\n",
    "\timages = []\n",
    "\n",
    "\tfor unit in units:\n",
    "\t\tfor i in range(unit[\"count\"]):\n",
    "\t\t\ttmp_img = Image.open(unit[\"image\"])\n",
    "\t\t\ttmp_img = tmp_img.convert(\"RGBA\")\n",
    "\t\t\ttmp_img = make_tier(tmp_img, unit[\"tier\"])\n",
    "\t\t\ttmp_img = make_elite(tmp_img, unit[\"elite\"])\n",
    "\t\t\ttmp_img = make_immune(tmp_img, unit[\"immune\"])\n",
    "\t\t\ttmp_img = make_bg(tmp_img, unit[\"star\"])\n",
    "\t\t\timages += [tmp_img]\n",
    "\n",
    "\treturn image_grid(images, border, add_empty)\n"
   ]
  },
  {
   "cell_type": "code",
   "execution_count": 53,
   "metadata": {},
   "outputs": [],
   "source": [
    "def make_tier(image: Image, tier: int) -> Image:\n",
    "\tglobal tier_image\n",
    "\tfor i in range(tier):\n",
    "\t\tsize_mult = 1.3\n",
    "\t\ttier_image = tier_image.resize(size=(int(10*size_mult), int(14*size_mult)))\n",
    "\t\ttier_image = tier_image.convert(\"RGBA\")\n",
    "\t\timage.alpha_composite(tier_image, (1, 2 + 10*i))\n",
    "\treturn image\n"
   ]
  },
  {
   "cell_type": "code",
   "execution_count": 54,
   "metadata": {},
   "outputs": [],
   "source": [
    "def make_bg(image: Image, star: int) -> Image:\n",
    "\tglobal star_image\n",
    "\tbg_box = star_image[star].copy()\n",
    "\tmove = int((bg_box.size[0] - image.size[0]) / 2)\n",
    "\n",
    "\tbg_box.alpha_composite(image, (move, move))\n",
    "\n",
    "\treturn bg_box\n"
   ]
  },
  {
   "cell_type": "code",
   "execution_count": 55,
   "metadata": {},
   "outputs": [],
   "source": [
    "def image_grid(imgs: list, border: int = 0, add_empty: bool = True) -> Image:\n",
    "\n",
    "\tcols = 6\n",
    "\trows = ceildiv(len(imgs), cols)\n",
    "\n",
    "\tgap = 7\n",
    "\n",
    "\ttoadd = rows*cols - len(imgs)\n",
    "\n",
    "\tif len(imgs) < 6 and not add_empty:\n",
    "\t\tcols = len(imgs)\n",
    "\t\t\n",
    "\tbg_color = (22, 22, 22, 255) #161616\n",
    "\n",
    "\tif add_empty:\n",
    "\t\tfor i in range(toadd):\n",
    "\t\t\timgs += [empty_unit]\n",
    "\n",
    "\tw, h = imgs[0].size\n",
    "\n",
    "\tgap_add_w = (cols - 1) * gap\n",
    "\tgap_add_h = (rows - 1) * gap\n",
    "\n",
    "\tgrid = Image.new('RGBA', (cols*w + gap_add_w + border*2, rows*h + gap_add_h + border*2), bg_color)\n",
    "\tgrid_w, grid_h = grid.size\n",
    "\tfor i, img in enumerate(imgs):\n",
    "\t\tgrid.alpha_composite(img, (i % cols*w + (i % cols * gap) + border, i // cols * h + (i // cols * gap) + border))\n",
    "\treturn grid"
   ]
  },
  {
   "cell_type": "code",
   "execution_count": 56,
   "metadata": {},
   "outputs": [],
   "source": [
    "def all_units():\n",
    "\tall = [i[0] + \" Sr\" + i[0] for i in sql('SELECT short FROM units')]\n",
    "\tunits = ' '.join(all)\n",
    "\treturn units\n"
   ]
  },
  {
   "cell_type": "code",
   "execution_count": 57,
   "metadata": {},
   "outputs": [
    {
     "name": "stdout",
     "output_type": "stream",
     "text": [
      "Image generation done in 0.02s\n",
      "Units:\n",
      "T0 Sr «Death Knight» (PI) x3\n",
      "T0 Sr «Gunner» x3\n"
     ]
    }
   ],
   "source": [
    "gen_time = time.time()\n",
    "\n",
    "lang = \"en\"\n",
    "\n",
    "# units = all_units()\n",
    "units = \"SrDK(PI)*3 SrGunner*3\"\n",
    "\n",
    "image = gen_image(units, 10, False)\n",
    "\n",
    "log_generation(units)\n",
    "\n",
    "image.show()\n"
   ]
  }
 ],
 "metadata": {
  "kernelspec": {
   "display_name": "Python 3.9.4 64-bit",
   "language": "python",
   "name": "python3"
  },
  "language_info": {
   "codemirror_mode": {
    "name": "ipython",
    "version": 3
   },
   "file_extension": ".py",
   "mimetype": "text/x-python",
   "name": "python",
   "nbconvert_exporter": "python",
   "pygments_lexer": "ipython3",
   "version": "3.9.4"
  },
  "orig_nbformat": 4,
  "vscode": {
   "interpreter": {
    "hash": "ba509af6c945777e61d84d06c404ada3384b2e7deaac5b933db20ed1713c6ad7"
   }
  }
 },
 "nbformat": 4,
 "nbformat_minor": 2
}
