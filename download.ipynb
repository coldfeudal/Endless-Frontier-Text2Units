{
 "cells": [
  {
   "cell_type": "code",
   "execution_count": 22,
   "metadata": {},
   "outputs": [],
   "source": [
    "import sqlite3\n",
    "import urllib.request\n",
    "import requests\n",
    "import os.path\n",
    "from urllib.error import HTTPError\n",
    "from requests.exceptions import InvalidSchema\n"
   ]
  },
  {
   "cell_type": "code",
   "execution_count": 23,
   "metadata": {},
   "outputs": [],
   "source": [
    "def read_page (url):\n",
    "\tfp = urllib.request.urlopen(url)\n",
    "\tmybytes = fp.read()\n",
    "\tmystr = mybytes.decode(\"utf8\")\n",
    "\tfp.close()\n",
    "\treturn mystr\n",
    "\n",
    "def get_image (url):\n",
    "\thtml = read_page(url)\n",
    "\tpattern_str = 'image image-thumbnail\\\" title=\\\"Base\\\">\\n\\t\\t\\t\\t\\t\\t'\n",
    "\tsrc_str = '<img src=\"'\n",
    "\tstart_i = html.find(pattern_str) + len(pattern_str) + len(src_str)\n",
    "\tend_i = html.find(' srcset=') - 1\n",
    "\treturn html[start_i:end_i]\n",
    "\n",
    "def download_image_from (url, name):\n",
    "\timg_data = requests.get(get_image(url)).content\n",
    "\twith open(f'normal/{name}.png', 'wb') as handler:\n",
    "\t\thandler.write(img_data)\n"
   ]
  },
  {
   "cell_type": "code",
   "execution_count": 24,
   "metadata": {},
   "outputs": [],
   "source": [
    "url = \"https://endless-frontier.fandom.com/wiki/\"\n"
   ]
  },
  {
   "cell_type": "code",
   "execution_count": 25,
   "metadata": {},
   "outputs": [],
   "source": [
    "sqlite_connection = sqlite3.connect(\"units.db\")\n",
    "cursor = sqlite_connection.cursor()\n"
   ]
  },
  {
   "cell_type": "code",
   "execution_count": 26,
   "metadata": {},
   "outputs": [],
   "source": [
    "cursor.execute(\"SELECT * FROM units\")\n",
    "units = cursor.fetchall()\n"
   ]
  },
  {
   "cell_type": "code",
   "execution_count": 27,
   "metadata": {},
   "outputs": [],
   "source": [
    "full_urls = []\n",
    "names = []\n",
    "\n",
    "for unit in units:\n",
    "\tname, short = unit[1:3]\n",
    "\tfull_urls += [url + name.replace(\" \", \"_\")]\n",
    "\tnames += [name]\n"
   ]
  },
  {
   "cell_type": "code",
   "execution_count": 28,
   "metadata": {},
   "outputs": [
    {
     "name": "stdout",
     "output_type": "stream",
     "text": [
      "Downloading Elf Archer\n",
      "Downloading Infantry\n",
      "Downloading Orc Fighter\n",
      "Downloading Skeleton Unit\n",
      "Downloading Elf Warrior\n",
      "Downloading Frost Mage\n",
      "Downloading Heavy Infantry\n",
      "Downloading Orc Hunter\n",
      "Downloading Poison Archer\n",
      "Downloading Warlock\n",
      "Downloading Ghost\n",
      "Downloading Fire Bird\n",
      "Downloading Hammer Knight\n",
      "Downloading High Elf Archer\n",
      "Downloading Green Eagle\n",
      "Downloading Great Hammer Unit\n",
      "Downloading Musketeer\n",
      "Downloading Orc Hammer Unit\n",
      "Downloading Orc Wing\n",
      "Downloading Skeleton Warrior\n",
      "Downloading Black Magic Wizard\n",
      "Downloading Cavalry Knight\n",
      "Downloading Orc Ax Unit\n",
      "Downloading Wind Mage\n",
      "Downloading Aladdin\n",
      "Downloading Alchemist\n",
      "Downloading Abyss Mage\n",
      "Downloading Battle Drummer\n",
      "Downloading Big Foot\n",
      "Downloading Blade Master\n",
      "Downloading Bomb Unit\n",
      "Downloading Cleric\n",
      "Downloading Crow Knight\n",
      "Downloading Dark Archer\n",
      "Downloading Dark Admiral\n",
      "Downloading Dark Elf\n",
      "Downloading Death Knight\n",
      "Downloading Druid\n",
      "Downloading Dark Spirit\n",
      "Downloading Elementalist\n",
      "Downloading Ent\n",
      "Downloading Fairy\n",
      "Downloading Frost Demon\n",
      "Downloading Forest Guardian\n",
      "Downloading Fire Mage\n",
      "Fire Spirit not available\n",
      "Downloading Hoyden Goku\n",
      "Downloading Golem\n",
      "Downloading Griffin Rider\n",
      "Downloading Gunner\n",
      "Downloading Hot-Blooded Xuanzang\n",
      "Downloading Hippogriff\n",
      "Downloading Hands of Death\n",
      "Downloading Incubus\n",
      "Downloading Ice Spirit\n",
      "Downloading Ice Wizard\n",
      "Downloading Lich\n",
      "Downloading Medusa\n",
      "Downloading Naga\n",
      "Downloading Dark Ninja\n",
      "Downloading Pilot\n",
      "Downloading Priest\n",
      "Rangda not available\n",
      "Downloading Raptor Rider\n",
      "Elf Sage not available\n",
      "Downloading Sword Dancer\n",
      "Downloading Siren\n",
      "Downloading Sorcerer\n",
      "Downloading Steam Punk\n",
      "Downloading Succubus\n",
      "Downloading Sylphid\n",
      "Musketress not available\n",
      "Downloading Unicorn Knight\n",
      "Downloading Valkyrie\n",
      "Downloading Windwalker\n",
      "Winged Knight not available\n",
      "Downloading Wolf Rider\n",
      "Downloading Wolf Warrior\n",
      "Downloading Wyvern Rider\n"
     ]
    }
   ],
   "source": [
    "for fu, name in zip(full_urls, names):\n",
    "\tif not os.path.isfile(f\"normal/{name}.png\"):\n",
    "\t\ttry:\n",
    "\t\t\tdownload_image_from(fu, name)\n",
    "\t\t\tprint(f\"Downloading {name}\")\n",
    "\t\texcept (HTTPError, InvalidSchema) as e:\n",
    "\t\t\tprint(f\"{name} not available\")\n",
    "\telse:\n",
    "\t\tprint(f\"{name} exists\")\n",
    "\n",
    "\n"
   ]
  }
 ],
 "metadata": {
  "interpreter": {
   "hash": "c1775bf92fc0579307c152a94a6afa9aa85eba3cc5a9f8c32e05af085029c520"
  },
  "kernelspec": {
   "display_name": "Python 3.9.4 64-bit",
   "language": "python",
   "name": "python3"
  },
  "language_info": {
   "codemirror_mode": {
    "name": "ipython",
    "version": 3
   },
   "file_extension": ".py",
   "mimetype": "text/x-python",
   "name": "python",
   "nbconvert_exporter": "python",
   "pygments_lexer": "ipython3",
   "version": "3.9.4"
  },
  "orig_nbformat": 4
 },
 "nbformat": 4,
 "nbformat_minor": 2
}
